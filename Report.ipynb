{
 "cells": [
  {
   "cell_type": "markdown",
   "metadata": {},
   "source": [
    "# Tennis Project - Report\n",
    "\n",
    "---\n",
    "\n",
    "This DDPG algorithm is applied to the tennis problem to train two agents that play tennis together. Normal noise is added to the state to increase exploration."
   ]
  },
  {
   "cell_type": "markdown",
   "metadata": {},
   "source": [
    "### Model\n",
    "\n",
    "---\n",
    "\n",
    "The model for this algorithm is as follows:\n",
    "\n",
    "Actor-Critic\n",
    "\n",
    "    Actor:\n",
    "        Fully Connected - > Relu - > Fully Connected - > Relu - > Fully Connected - > Tanh\n",
    "    \n",
    "    Critic:\n",
    "        Fully Connected - > Relu - > Fully Connected - > Relu - > Fully Connected - > Feedback to Actor\n",
    "    \n",
    "    Parameters 512 for the first fully-connected layer and 256 for the second fully-connected layer"
   ]
  },
  {
   "cell_type": "markdown",
   "metadata": {},
   "source": [
    "### HyperParameters\n",
    "\n",
    "---\n",
    "\n",
    "The hyperparameters are as follows:\n",
    "\n",
    "    BUFFER_SIZE = int(1e6)  # replay buffer size\n",
    "    BATCH_SIZE = 128        # minibatch size\n",
    "    GAMMA = 0.99            # discount factor\n",
    "    TAU = 1e-3              # for soft update of target parameters\n",
    "    LR_ACTOR = 1e-4         # learning rate of the actor\n",
    "    LR_CRITIC = 1e-4        # learning rate of the critic\n",
    "    WEIGHT_DECAY = 0        # L2 weight decay\n",
    "    EPSILON = 0.0001        # Exploration Constant"
   ]
  },
  {
   "cell_type": "markdown",
   "metadata": {},
   "source": [
    "### Results\n",
    "\n",
    "---\n"
    "Run for yourself!"
   ]
  },
  {
   "cell_type": "code",
   "execution_count": 1,
   "metadata": {},
   "outputs": [
    {
     "name": "stderr",
     "output_type": "stream",
     "text": [
      "INFO:unityagents:\n",
      "'Academy' started successfully!\n",
      "Unity Academy name: Academy\n",
      "        Number of Brains: 1\n",
      "        Number of External Brains : 1\n",
      "        Lesson number : 0\n",
      "        Reset Parameters :\n",
      "\t\t\n",
      "Unity brain name: TennisBrain\n",
      "        Number of Visual Observations (per agent): 0\n",
      "        Vector Observation space type: continuous\n",
      "        Vector Observation space size (per agent): 8\n",
      "        Number of stacked Vector Observation: 3\n",
      "        Vector Action space type: continuous\n",
      "        Vector Action space size (per agent): 2\n",
      "        Vector Action descriptions: , \n"
     ]
    },
    {
     "name": "stdout",
     "output_type": "stream",
     "text": [
      "Number of agents: 2\n",
      "Size of each action: 2\n",
      "There are 2 agents. Each observes a state with length: 24\n",
      "The state for the first agent looks like: [ 0.          0.          0.          0.          0.          0.\n",
      "  0.          0.          0.          0.          0.          0.\n",
      "  0.          0.          0.          0.         -6.65278625 -1.5\n",
      " -0.          0.          6.83172083  6.         -0.          0.        ]\n",
      "Episode: 100\tHighest Score  0.09\tAverage score for last 100 episodes was  0.00\tTime: 0:00:22.0\n",
      "Episode: 200\tHighest Score  0.09\tAverage score for last 100 episodes was  0.00\tTime: 0:00:43.2\n",
      "Episode: 300\tHighest Score  0.20\tAverage score for last 100 episodes was  0.03\tTime: 0:01:14.8\n",
      "Episode: 400\tHighest Score  0.10\tAverage score for last 100 episodes was  0.01\tTime: 0:01:39.5\n",
      "Episode: 500\tHighest Score  0.30\tAverage score for last 100 episodes was  0.04\tTime: 0:02:14.8\n",
      "Episode: 600\tHighest Score  0.30\tAverage score for last 100 episodes was  0.07\tTime: 0:03:01.9\n",
      "Episode: 700\tHighest Score  1.30\tAverage score for last 100 episodes was  0.14\tTime: 0:04:23.5\n",
      "\n",
      "Last Episode: 781\tHighest Score  2.70\tAverage score for last 100 episodes was  0.82\tTime: 0:11:52.7\n"
     ]
    },
    {
     "data": {
      "image/png": "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\n",
      "text/plain": [
       "<Figure size 432x288 with 1 Axes>"
      ]
     },
     "metadata": {
      "needs_background": "light"
     },
     "output_type": "display_data"
    }
   ],
   "source": [
    "from unityagents import UnityEnvironment\n",
    "import numpy as np\n",
    "import gym\n",
    "import random\n",
    "import torch\n",
    "import numpy as np\n",
    "from collections import deque\n",
    "import matplotlib.pyplot as plt\n",
    "import ddpg_agent\n",
    "\n",
    "import time\n",
    "from datetime import timedelta\n",
    "\n",
    "\n",
    "env = UnityEnvironment(file_name='Tennis_Linux/Tennis.x86_64')\n",
    "# get the default brain\n",
    "brain_name = env.brain_names[0]\n",
    "brain = env.brains[brain_name]\n",
    "\n",
    "# reset the environment\n",
    "env_info = env.reset(train_mode=True)[brain_name]\n",
    "\n",
    "# number of agents\n",
    "num_agents = len(env_info.agents)\n",
    "print('Number of agents:', num_agents)\n",
    "\n",
    "# size of each action\n",
    "action_size = brain.vector_action_space_size\n",
    "print('Size of each action:', action_size)\n",
    "\n",
    "# examine the state space\n",
    "states = env_info.vector_observations\n",
    "state_size = states.shape[1]\n",
    "print('There are {} agents. Each observes a state with length: {}'.format(states.shape[0], state_size))\n",
    "print('The state for the first agent looks like:', states[0])\n",
    "random_seed = 0\n",
    "clip_constant = 1\n",
    "\n",
    "update_count = 10\n",
    "\n",
    "action_tensor_size = num_agents * action_size\n",
    "state_tensor_size = num_agents * state_size\n",
    "\n",
    "def ddpg(agent_instance, print_every=100):\n",
    "    scores_deque = deque(maxlen=print_every)\n",
    "    scores_deque.append(0)\n",
    "    scores = np.zeros(num_agents)                          # initialize the score (for each agent)\n",
    "    n_episodes = 0\n",
    "    start_time = time.time()                                    # start time for printing\n",
    "    history = []\n",
    "\n",
    "    agent_obj = [ddpg_agent.Agent(**agent_instance) for _ in range(num_agents)]  # generate list of agents for each agent instance according to number of agents\n",
    "\n",
    "    while np.mean(scores_deque) < 0.8:\n",
    "        n_episodes += 1\n",
    "        env_info = env.reset(train_mode=True)[brain_name]     # reset the environment\n",
    "        states = env_info.vector_observations                  # get the current\n",
    "        # state (for each agent)\n",
    "        scores = np.zeros(num_agents)                          # initialize the score (for each agent)\n",
    "        for agent in agent_obj:\n",
    "            agent.reset()\n",
    "\n",
    "        learn_count = 0\n",
    "\n",
    "        while True:\n",
    "            learn_count += 1\n",
    "            actions = np.array([agent_obj[i].act(states[i], add_noise=True) for i in range(num_agents)])                        # select an action (for each agent)\n",
    "\n",
    "            #env_info = env.step(actions)[brain_name]           # send all actions to tne environment\n",
    "\n",
    "            env_info = env.step(np.reshape(np.concatenate(([actions[i] for i in range(num_agents)]), axis = 0), (1, action_tensor_size)))[brain_name]           # send all actions to the environment\n",
    "\n",
    "            next_states = env_info.vector_observations        # get next state (for each agent)\n",
    "            rewards = env_info.rewards                         # get reward (for each agent)\n",
    "            dones = env_info.local_done                        # see if episode finished\n",
    "\n",
    "            for i in range(num_agents):\n",
    "                agent_obj[i].step(states[i], actions[i], rewards[i], next_states[i], dones[i], learn_count, update_count)\n",
    "\n",
    "            states = next_states                               # roll over states to next time step\n",
    "\n",
    "            scores += rewards                         # update the score (for each agent)\n",
    "\n",
    "            if np.any(dones):                                  # exit loop if episode finished\n",
    "                break\n",
    "\n",
    "        scores_deque.append(np.max(scores))\n",
    "\n",
    "        history.append(np.mean(scores))\n",
    "\n",
    "        delta_time = str(timedelta(seconds=time.time() - start_time))  # elapsed time\n",
    "        count = 0\n",
    "        for agent in agent_obj:\n",
    "            count += 1\n",
    "            torch.save(agent.actor_local.state_dict(), 'checkpoint_actor_%s.pth' % count)\n",
    "            torch.save(agent.critic_local.state_dict(), 'checkpoint_critic_%s.pth' % count)\n",
    "\n",
    "        if n_episodes % (print_every) == 0:\n",
    "            print(\"\\rEpisode: {}\\tHighest Score {: .2f}\\tAverage score for last {} episodes was {: .2f}\\tTime: {:.9}\".format(n_episodes, np.max(scores_deque), print_every, np.mean(scores_deque), delta_time))\n",
    "\n",
    "    print(\"\\n\\rLast Episode: {}\\tHighest Score {: .2f}\\tAverage score for last {} episodes was {: .2f}\\tTime: {:.9}\".format(n_episodes, np.max(scores_deque), print_every, np.mean(scores_deque), delta_time))\n",
    "    return history\n",
    "\n",
    "agent_instance ={\"state_size\": state_size, \"action_size\": action_size, \"random_seed\": random_seed, \"clip_constant\": clip_constant}\n",
    "\n",
    "results = ddpg(agent_instance)\n",
    "fig = plt.figure()\n",
    "ax = fig.add_subplot(111)\n",
    "plt.plot(np.arange(1, len(results)+1), results)\n",
    "plt.ylabel('Score')\n",
    "plt.xlabel('Episode #')\n",
    "plt.show()\n"
   ]
  },
  {
   "cell_type": "code",
   "execution_count": null,
   "metadata": {},
   "outputs": [],
   "source": []
  }
 ],
 "metadata": {
  "kernelspec": {
   "display_name": "drlnd",
   "language": "python",
   "name": "drlnd"
  },
  "language_info": {
   "codemirror_mode": {
    "name": "ipython",
    "version": 3
   },
   "file_extension": ".py",
   "mimetype": "text/x-python",
   "name": "python",
   "nbconvert_exporter": "python",
   "pygments_lexer": "ipython3",
   "version": "3.6.10"
  }
 },
 "nbformat": 4,
 "nbformat_minor": 4
}
